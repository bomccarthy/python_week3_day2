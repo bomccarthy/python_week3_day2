{
 "cells": [
  {
   "cell_type": "markdown",
   "metadata": {},
   "source": [
    "# Algorithms, Binary Search & Linked Lists"
   ]
  },
  {
   "cell_type": "markdown",
   "metadata": {},
   "source": [
    "## Tasks Today:\n",
    " \n",
    "1) <b>In-Place Algorithms</b> <br>\n",
    " &nbsp;&nbsp;&nbsp;&nbsp; a) Syntax <br>\n",
    " &nbsp;&nbsp;&nbsp;&nbsp; a) Out of Place Algorithm <br>\n",
    " &nbsp;&nbsp;&nbsp;&nbsp; b) In-Class Exercise #1 <br>\n",
    "2) <b>Two Pointers</b> <br>\n",
    "3) <b>Merge Sort</b> <br>\n",
    " &nbsp;&nbsp;&nbsp;&nbsp; a) Video on Algorithms <br>\n",
    " &nbsp;&nbsp;&nbsp;&nbsp; b) How it Works <br>\n",
    "4) <b>Exercises</b> <br>\n",
    " &nbsp;&nbsp;&nbsp;&nbsp; a) Exercise #1 - Reverse a List in Place Using an In-Place Algorithm <br>\n",
    " &nbsp;&nbsp;&nbsp;&nbsp; b) Exercise #2 - Find Distinct Words <br>\n",
    " &nbsp;&nbsp;&nbsp;&nbsp; c) Exercise #3 - Write a program to implement a Linear Search Algorithm. <br>"
   ]
  },
  {
   "cell_type": "markdown",
   "metadata": {},
   "source": [
    "## In-Place Algorithms"
   ]
  },
  {
   "cell_type": "markdown",
   "metadata": {},
   "source": [
    "#### Syntax"
   ]
  },
  {
   "cell_type": "code",
   "execution_count": 38,
   "metadata": {},
   "outputs": [
    {
     "name": "stdout",
     "output_type": "stream",
     "text": [
      "Before Swap: [1, 11, 22, 34]\n",
      "After Swap: [1, 34, 22, 11]\n",
      "Output: None\n"
     ]
    }
   ],
   "source": [
    "# l1 = [5,4,3]\n",
    "# # l1.sort()\n",
    "# output = sorted(l1)\n",
    "# print(l1)\n",
    "# print(output)\n",
    "\n",
    "# swap algorithm\n",
    "def swap(nums, i1, i2):\n",
    "    nums[i1], nums [i2] = nums[i2], nums[i1]\n",
    "    \n",
    "    # temp = nums[l1]\n",
    "    # nums[l1] = nums[l2]\n",
    "    # nums[l2] = temp\n",
    "    \n",
    "l1 = [1, 11, 22, 34]\n",
    "print(f'Before Swap: {l1}')\n",
    "output = swap(l1, 1, 3)\n",
    "print(f'After Swap: {l1}')\n",
    "print(f'Output: {output}')"
   ]
  },
  {
   "cell_type": "markdown",
   "metadata": {},
   "source": [
    "#### Out of Place Algorithm"
   ]
  },
  {
   "cell_type": "code",
   "execution_count": 19,
   "metadata": {},
   "outputs": [
    {
     "name": "stdout",
     "output_type": "stream",
     "text": [
      "[1, 11, 22, 34]\n",
      "[1, 11, 22, 34]\n",
      "[1, 34, 22, 11]\n"
     ]
    }
   ],
   "source": [
    "def swap(nums, l1, l2):\n",
    "    copy = nums[:]\n",
    "    copy[l1], copy[l2] = copy[l2], copy[l1]\n",
    "    return copy\n",
    "    \n",
    "l1 = [1, 11, 22, 34]\n",
    "print(l1)\n",
    "output = swap(l1, 1, 3)\n",
    "print(l1)\n",
    "print(output)"
   ]
  },
  {
   "cell_type": "markdown",
   "metadata": {},
   "source": [
    "#### In-Class Exercise #1 <br>\n",
    "<p>Write a function that takes in four arguments (list, index1, index2, index3), and swaps those three positions in the list passed in.</p>"
   ]
  },
  {
   "cell_type": "code",
   "execution_count": 14,
   "metadata": {},
   "outputs": [
    {
     "name": "stdout",
     "output_type": "stream",
     "text": [
      "[10, 8, 3, 2, 4, 4, 6]\n"
     ]
    }
   ],
   "source": [
    "l_1 = [10, 4, 3, 8, 4, 2, 6]\n",
    "\n",
    "def swap(list, index1, index2, index3):\n",
    "    list[index1], list[index2], list[index3] = list[index2], list[index3], list[index1]\n",
    "    \n",
    "swap(l_1, 1, 3, 5)\n",
    "print(l_1)"
   ]
  },
  {
   "cell_type": "markdown",
   "metadata": {},
   "source": [
    "## Two Pointers"
   ]
  },
  {
   "cell_type": "markdown",
   "metadata": {},
   "source": [
    "#### Syntax"
   ]
  },
  {
   "cell_type": "code",
   "execution_count": 18,
   "metadata": {},
   "outputs": [
    {
     "name": "stdout",
     "output_type": "stream",
     "text": [
      "[40, 30, 20, 10, 5, 4, 3, 2, 1]\n"
     ]
    }
   ],
   "source": [
    "# We use two pointers to swap, can use a while loop in most cases\n",
    "# Swap function is also being used as a helper function\n",
    "\n",
    "def swap(nums, l1, l2):\n",
    "    nums[l1], nums[l2] = nums[l2], nums[l1]\n",
    "    \n",
    "def reverseTwoPointer(nums):\n",
    "    # create the pointers\n",
    "    left = 0\n",
    "    right = len(nums) - 1\n",
    "    # When do our pointers / stop moving\n",
    "    while left < right:\n",
    "        swap(nums, left, right)\n",
    "        left += 1\n",
    "        right -= 1\n",
    "\n",
    "list2 = [1,2,3,4,5,10,20,30,40]\n",
    "\n",
    "reverseTwoPointer(list2)\n",
    "\n",
    "print(list2)"
   ]
  },
  {
   "cell_type": "markdown",
   "metadata": {},
   "source": [
    "#### Video of Algorithms <br>\n",
    "<p>Watch the video about algorithms.</p>\n",
    "\n",
    "https://www.youtube.com/watch?v=Q9HjeFD62Uk\n",
    "\n",
    "https://www.youtube.com/watch?v=kPRA0W1kECg\n",
    "\n",
    "https://www.youtube.com/watch?v=ZZuD6iUe3Pc"
   ]
  },
  {
   "cell_type": "markdown",
   "metadata": {},
   "source": [
    "# Sorting Algorithms"
   ]
  },
  {
   "cell_type": "markdown",
   "metadata": {},
   "source": [
    "#### Bubble Sort\n",
    "\n",
    "Worst Case: O(n^2) Time - O(1) Space"
   ]
  },
  {
   "cell_type": "code",
   "execution_count": 22,
   "metadata": {},
   "outputs": [
    {
     "name": "stdout",
     "output_type": "stream",
     "text": [
      "[1, 2, 5, 9, 11, 20, 100, 191]\n"
     ]
    }
   ],
   "source": [
    "# sorted()\n",
    "# .sort()\n",
    "# tim sort\n",
    "\n",
    "def swap(list, l1, l2):\n",
    "    list[l1], list[l2] = list[l2], list[l1]\n",
    "    \n",
    "def bubbleSort(list):\n",
    "    isSorted = False\n",
    "    count = 0\n",
    "    while not isSorted:\n",
    "        isSorted = True\n",
    "        for i in range(len(list) - 1 - count):\n",
    "            if list[i] > list[i+1]:\n",
    "                swap(list, i, i+1)\n",
    "                isSorted = False\n",
    "        count += 1\n",
    "\n",
    "l1 = [1,5,11,20,9,100,191,2]\n",
    "\n",
    "bubbleSort(l1)\n",
    "print(l1)"
   ]
  },
  {
   "cell_type": "markdown",
   "metadata": {},
   "source": [
    "##### Insertion Sort\n",
    "\n",
    "Worst Case: O(n^2) time - O(1)space"
   ]
  },
  {
   "cell_type": "code",
   "execution_count": 25,
   "metadata": {},
   "outputs": [
    {
     "name": "stdout",
     "output_type": "stream",
     "text": [
      "[-2, 1, 2, 5, 9, 11, 20, 100, 191, 200]\n"
     ]
    }
   ],
   "source": [
    "def swap(list, l1, l2):\n",
    "    list[l1], list[l2] = list[l2], list[l1]\n",
    "\n",
    "    def insertionSort(list):\n",
    "        for i in range(1, len(list)):\n",
    "            j = i\n",
    "            while J > 0 and list[j] < list[j-1]:\n",
    "                swap(list, j, j-1)\n",
    "                j -= 1\n",
    "\n",
    "l1 = [1,5,-2, 200,11,20,9,100,191,2]\n",
    "\n",
    "bubbleSort(l1)\n",
    "print(l1)                "
   ]
  },
  {
   "cell_type": "markdown",
   "metadata": {},
   "source": [
    "## Merge Sort"
   ]
  },
  {
   "cell_type": "markdown",
   "metadata": {},
   "source": [
    "#### How it Works"
   ]
  },
  {
   "cell_type": "code",
   "execution_count": 34,
   "metadata": {},
   "outputs": [
    {
     "name": "stdout",
     "output_type": "stream",
     "text": [
      "splitting.. [1, 5, -2, 200, 11, 20, 9, 100, 191, 2]\n",
      "splitting.. [1, 5, -2, 200, 11]\n",
      "splitting.. [1, 5]\n",
      "splitting.. [1]\n",
      "splitting.. [5]\n",
      "Merging.. [1, 5]\n",
      "splitting.. [-2, 200, 11]\n",
      "splitting.. [-2]\n",
      "splitting.. [200, 11]\n",
      "splitting.. [200]\n",
      "splitting.. [11]\n",
      "Merging.. [11, 200]\n",
      "Merging.. [-2, 11, 200]\n",
      "Merging.. [-2, 1, 5, 11, 200]\n",
      "splitting.. [20, 9, 100, 191, 2]\n",
      "splitting.. [20, 9]\n",
      "splitting.. [20]\n",
      "splitting.. [9]\n",
      "Merging.. [9, 20]\n",
      "splitting.. [100, 191, 2]\n",
      "splitting.. [100]\n",
      "splitting.. [191, 2]\n",
      "splitting.. [191]\n",
      "splitting.. [2]\n",
      "Merging.. [2, 191]\n",
      "Merging.. [2, 100, 191]\n",
      "Merging.. [2, 9, 20, 100, 191]\n",
      "Merging.. [-2, 1, 2, 5, 9, 11, 20, 100, 191, 200]\n",
      "[-2, 1, 2, 5, 9, 11, 20, 100, 191, 200]\n"
     ]
    }
   ],
   "source": [
    "#  Step 1: split everything into its own group\n",
    "#  Step 2: from left to right, merge groups together \n",
    "#  Step 3: while merging, place items into correct position\n",
    "#  Step 4: repeat\n",
    "\n",
    "def mergeSort(list):\n",
    "    print(f'splitting.. {list}')\n",
    "    #Step 1: divide the list into equal parts (as evenly as possible)\n",
    "    if len(list) > 1:\n",
    "        mid = len(list) // 2\n",
    "        lefthalf = list[:mid]\n",
    "        righthalf = list[mid:]\n",
    "        \n",
    "        # recursively repeat mergeSort to continue splitting\n",
    "        mergeSort(lefthalf)\n",
    "        mergeSort(righthalf)\n",
    "        # index pointer for our lists\n",
    "        i = 0\n",
    "        j = 0\n",
    "        k = 0\n",
    "        \n",
    "        # step 2: compare left and right halves\n",
    "        while i < len(lefthalf) and j < len(righthalf):\n",
    "            if lefthalf[i] < righthalf[j]:\n",
    "                list[k] = lefthalf[i]\n",
    "                i += 1\n",
    "            else:\n",
    "                list[k] = righthalf[j]\n",
    "                j += 1\n",
    "            k += 1\n",
    "            \n",
    "        # step 3: \n",
    "        while i < len(lefthalf):\n",
    "            list[k] = lefthalf[i]\n",
    "            i += 1\n",
    "            k += 1\n",
    "            \n",
    "        while j < len(righthalf):\n",
    "            list[k] = righthalf[j]\n",
    "            j += 1\n",
    "            k += 1\n",
    "        print(f'Merging.. {list}')\n",
    "\n",
    "l1 = [1,5,-2, 200,11,20,9,100,191,2]\n",
    "\n",
    "mergeSort(l1)\n",
    "print(l1)"
   ]
  },
  {
   "cell_type": "markdown",
   "metadata": {},
   "source": [
    "# Binary Search\n",
    "\n",
    "The Binary Search algorithm works by finding the number in the middle of a given array and comparing it to the target. Given that the array is sorted\n",
    "\n",
    "* The worst case run time for this algorithm is `O(log(n))`"
   ]
  },
  {
   "cell_type": "code",
   "execution_count": 33,
   "metadata": {},
   "outputs": [
    {
     "name": "stdout",
     "output_type": "stream",
     "text": [
      "What you are looking for does not exist\n",
      "I found 13 at index 9\n"
     ]
    }
   ],
   "source": [
    "# what you are looking through must be sorted\n",
    "\n",
    "def binarySearch(list, target):\n",
    "    left = 0\n",
    "    right = len(list)-1\n",
    "    while left <= right:\n",
    "        middle = (left + right) // 2\n",
    "        guess = list[middle]\n",
    "        if target == guess:\n",
    "            return f'I found {target} at index {middle}'\n",
    "        elif target < guess:\n",
    "            # right should move\n",
    "            right = middle - 1\n",
    "        elif target > guess:\n",
    "            left = middle + 1\n",
    "    return 'What you are looking for does not exist'\n",
    "\n",
    "print(binarySearch([1,2,3,4,5,6,7,10,11,13,22,33,44,55,66,77,100], 12))\n",
    "print(binarySearch([1,2,3,4,5,6,7,10,11,13,22,33,44,55,66,77,100], 13))"
   ]
  },
  {
   "cell_type": "markdown",
   "metadata": {},
   "source": [
    "# Exercises"
   ]
  },
  {
   "cell_type": "markdown",
   "metadata": {},
   "source": [
    "### Exercise #1 <br>\n",
    "<p>Reverse the list below in-place using an in-place algorithm.<br>For extra credit: Reverse the strings at the same time.</p>"
   ]
  },
  {
   "cell_type": "code",
   "execution_count": 43,
   "metadata": {},
   "outputs": [
    {
     "name": "stdout",
     "output_type": "stream",
     "text": [
      "['this', 'is', 'a', 'sentence', '.']\n"
     ]
    }
   ],
   "source": [
    "words = ['this' , 'is', 'a', 'sentence', '.']\n",
    "\n",
    "def reverseList(words, i1, i2, i3, i4, i5):\n",
    "     words[i1], words[i2], words[i3], words[i4], words[i5] = words[i5], words[i4], words[i3], words[i2], words[i1]\n",
    "\n",
    "for word in range(len(words)//2):     # I am not sure if two pointers is an in-place algorithm, but I did it anyway\n",
    "    words[word], words[len(words)-word-1] = words[len(words)-word-1], words[word]\n",
    "\n",
    "reverseList(words, 0, 1, 2, 3, 4)     # Returns None\n",
    "print(words)"
   ]
  },
  {
   "cell_type": "markdown",
   "metadata": {},
   "source": [
    "### Exercise #2 <br>\n",
    "<p>Create a function that counts how many distinct words are in the string below, then outputs a dictionary with the words as the key and the value as the amount of times that word appears in the string.<br>Should output:<br>{'a': 5,<br>\n",
    " 'abstract': 1,<br>\n",
    " 'an': 3,<br>\n",
    " 'array': 2, ... etc...</p>"
   ]
  },
  {
   "cell_type": "code",
   "execution_count": 44,
   "metadata": {},
   "outputs": [
    {
     "name": "stdout",
     "output_type": "stream",
     "text": [
      "{'a': 5, 'abstract': 1, 'an': 3, 'array': 2, 'associative': 1, 'be': 1, 'buckets': 1, 'can': 2, 'compute': 1, 'computing': 1, 'data': 2, 'desired': 1, 'found': 1, 'from': 1, 'function': 1, 'hash': 4, 'implements': 1, 'in': 1, 'index': 1, 'into': 1, 'is': 1, 'keys': 1, 'map': 2, 'of': 1, 'or': 1, 'slots': 1, 'structure': 2, 'table': 2, 'that': 1, 'the': 1, 'to': 2, 'type': 1, 'uses': 1, 'value': 1, 'values': 1, 'which': 2}\n"
     ]
    }
   ],
   "source": [
    "a_text = 'In computing, a hash table hash map is a data structure which implements an associative \\\n",
    "    array abstract data type, a structure that can map keys to values. A hash table uses a hash \\\n",
    "    function to compute an index into an array of buckets or slots from which the desired value can \\\n",
    "    be found'\n",
    "\n",
    "def dict_count(sent):\n",
    "    count_dict = {}\n",
    "    list_a_text = (((sent.lower()).replace(',','')).replace('.','')).split(' ')   # removes ',' and '.' and split sentance\n",
    "    rem_dups = [*set(list_a_text)]                                                # removes duplicates from the list\n",
    "    rem_dups.pop(rem_dups.index(''))                                              # removes '' from the list\n",
    "    rem_dups.sort()                                                               # sorts the list\n",
    "    for words in rem_dups:                                                        # creates the dictionary by adding\n",
    "        count_dict[words] = list_a_text.count(words)                              #    the key & calculating the value\n",
    "    print(count_dict)\n",
    "\n",
    "dict_count(a_text)"
   ]
  },
  {
   "cell_type": "markdown",
   "metadata": {},
   "source": [
    "## Exercise #3\n",
    "\n",
    "Write a program to implement a Linear Search Algorithm. Also in a comment, write the Time Complexity of the following algorithm.\n",
    "\n",
    "#### Hint: Linear Searching will require searching a list for a given number. "
   ]
  },
  {
   "cell_type": "code",
   "execution_count": 50,
   "metadata": {},
   "outputs": [
    {
     "name": "stdout",
     "output_type": "stream",
     "text": [
      "3\n",
      "8\n",
      "10\n",
      "21\n",
      "\n",
      "----- Results from COMPLETE file below -----\n",
      "\n",
      "4\n"
     ]
    }
   ],
   "source": [
    "nums_list = [10,23,45,70,11,15] # list of numbers to be searched\n",
    "target = 70 # the number I am trying to find the index of\n",
    "\n",
    "# ------ The above was not in the INCOMPLETE file, but the results will print above my results ------ #\n",
    "\n",
    "list_of_num = [2, 8, 4, 7, 1, 8, 3, 4, 1, 4, 1, 9, 2, 6, 7, 9, 6, 2, 3, 6, 4, 1, 5, 9, 1, 3, 3, 9, 2, 7]\n",
    "\n",
    "def find_num(number):\n",
    "    for num in range(len(list_of_num)):\n",
    "        if number == list_of_num[num]:\n",
    "            print(num + 1)\n",
    "\n",
    "find_num(4)\n",
    "\n",
    "print('\\n----- Results from COMPLETE file below -----\\n')\n",
    "\n",
    "list_of_num = nums_list\n",
    "find_num(target)"
   ]
  }
 ],
 "metadata": {
  "kernelspec": {
   "display_name": "Python 3 (ipykernel)",
   "language": "python",
   "name": "python3"
  },
  "language_info": {
   "codemirror_mode": {
    "name": "ipython",
    "version": 3
   },
   "file_extension": ".py",
   "mimetype": "text/x-python",
   "name": "python",
   "nbconvert_exporter": "python",
   "pygments_lexer": "ipython3",
   "version": "3.9.12"
  }
 },
 "nbformat": 4,
 "nbformat_minor": 2
}
